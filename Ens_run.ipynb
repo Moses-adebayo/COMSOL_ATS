{
 "cells": [
  {
   "cell_type": "code",
   "execution_count": 3,
   "id": "60378a54",
   "metadata": {},
   "outputs": [],
   "source": [
    "import sobol_seq\n",
    "import matplotlib.pyplot as plt\n",
    "import matplotlib.ticker as ticker\n",
    "import numpy as np\n",
    "#import seaborn as sn\n",
    "from mpl_toolkits.mplot3d import Axes3D\n",
    "# from matplotlib.colors import ListedColormap\n",
    "\n",
    "import pandas as pd"
   ]
  },
  {
   "cell_type": "code",
   "execution_count": 4,
   "id": "79e31f5d",
   "metadata": {},
   "outputs": [],
   "source": [
    "import matplotlib.style as style\n",
    "# style.use('ggplot')"
   ]
  },
  {
   "cell_type": "code",
   "execution_count": 5,
   "id": "a7dc5886",
   "metadata": {},
   "outputs": [],
   "source": [
    "%matplotlib inline\n",
    "import matplotlib as mpl\n",
    "mpl.rcParams['figure.dpi'] = 150"
   ]
  },
  {
   "cell_type": "markdown",
   "id": "74f51b56",
   "metadata": {},
   "source": [
    "**Set base file and destination folder for ensemble**"
   ]
  },
  {
   "cell_type": "code",
   "execution_count": 66,
   "id": "c85e0a2e",
   "metadata": {},
   "outputs": [],
   "source": [
    "fname_xml_base = \"BSL_profile.xml\"\n",
    "ens_dir = \"Perm_ens/Perm_ens\""
   ]
  },
  {
   "cell_type": "code",
   "execution_count": 67,
   "id": "f4275e50",
   "metadata": {},
   "outputs": [],
   "source": [
    "flatui = [\"#9b59b6\", \"#3498db\", \"#95a5a6\", \"#e74c3c\", \"#34495e\", \"#2ecc71\"]"
   ]
  },
  {
   "cell_type": "markdown",
   "id": "55e09d8e",
   "metadata": {},
   "source": [
    "**import starting values for parameters**"
   ]
  },
  {
   "cell_type": "code",
   "execution_count": 68,
   "id": "9576b5d6",
   "metadata": {},
   "outputs": [],
   "source": [
    "# starting value for alpha,n,res_sat and permeability\n",
    "pred_perm = [1.26e-13]"
   ]
  },
  {
   "cell_type": "markdown",
   "id": "442b8119",
   "metadata": {},
   "source": [
    "**Create sobol sequence**"
   ]
  },
  {
   "cell_type": "code",
   "execution_count": 69,
   "id": "1e48773c",
   "metadata": {},
   "outputs": [],
   "source": [
    "dat = sobol_seq.i4_sobol_generate(dim_num= 1, n = 100)"
   ]
  },
  {
   "cell_type": "markdown",
   "id": "5a833e6d",
   "metadata": {},
   "source": [
    "**generate random values for the parameters**"
   ]
  },
  {
   "cell_type": "code",
   "execution_count": 70,
   "id": "f48615f3",
   "metadata": {},
   "outputs": [],
   "source": [
    "# set lower bound for alpha,n,res_sat and permeability\n",
    "para = 1e-19\n",
    "ens_array = para**(2*dat)"
   ]
  },
  {
   "cell_type": "code",
   "execution_count": 71,
   "id": "05eecb7f",
   "metadata": {},
   "outputs": [],
   "source": [
    "# set order of magnitude \n",
    "n_order3 = 7\n",
    "ens_array = para*10**(n_order3*dat)"
   ]
  },
  {
   "cell_type": "code",
   "execution_count": 72,
   "id": "ff175ac0",
   "metadata": {},
   "outputs": [],
   "source": [
    "rownames = ['_' + str(i+1) for i in np.arange(100)]"
   ]
  },
  {
   "cell_type": "code",
   "execution_count": 73,
   "id": "a0b8ca3a",
   "metadata": {},
   "outputs": [],
   "source": [
    "ens_df = pd.DataFrame(data = ens_array, columns=['permeability [m^2]'], index=rownames)\n",
    "# ens_df.to_csv(fname_ensemble_csv)"
   ]
  },
  {
   "cell_type": "code",
   "execution_count": 74,
   "id": "61fb4dd1",
   "metadata": {},
   "outputs": [],
   "source": [
    "ens_df.to_csv('data/perm_ensemble_parameters.csv', index=False)"
   ]
  },
  {
   "cell_type": "markdown",
   "id": "7fd32743",
   "metadata": {},
   "source": [
    "**plot all ensemble**"
   ]
  },
  {
   "cell_type": "code",
   "execution_count": 75,
   "id": "c5a5d98c",
   "metadata": {},
   "outputs": [],
   "source": [
    "# ens_array = ens_array[:500, :]"
   ]
  },
  {
   "cell_type": "code",
   "execution_count": 76,
   "id": "38ecd1cb",
   "metadata": {},
   "outputs": [
    {
     "data": {
      "text/plain": [
       "Text(0, 0.5, 'Permeability ($m^2$)')"
      ]
     },
     "execution_count": 76,
     "metadata": {},
     "output_type": "execute_result"
    },
    {
     "data": {
      "image/png": "[encoded data removed]",
      "text/plain": [
       "<Figure size 450x450 with 1 Axes>"
      ]
     },
     "metadata": {},
     "output_type": "display_data"
    }
   ],
   "source": [
    "# cmap = ListedColormap(sn.color_palette(flatui))\n",
    "\n",
    "fig, ax=plt.subplots(1,1, figsize=(3,3))\n",
    "\n",
    "ax.set(yscale=\"log\")\n",
    "ax.scatter(np.arange(100), ens_array, color = flatui[3])\n",
    "#ax.set_ylim([1.5e-14, 1.5e-11])\n",
    "ax.set_title('Soil permeability')\n",
    "ax.set_ylabel('Permeability ($m^2$)')\n",
    "\n"
   ]
  },
  {
   "cell_type": "code",
   "execution_count": 77,
   "id": "c2f35795",
   "metadata": {},
   "outputs": [],
   "source": [
    "# fig.savefig(\"./ensemble.png\",dpi=300)\n",
    "# plt.close(fig)"
   ]
  },
  {
   "cell_type": "markdown",
   "id": "11a1d70d",
   "metadata": {},
   "source": [
    "# Write input files"
   ]
  },
  {
   "cell_type": "code",
   "execution_count": 78,
   "id": "f21131fd",
   "metadata": {},
   "outputs": [],
   "source": [
    "from itertools import islice"
   ]
  },
  {
   "cell_type": "code",
   "execution_count": 79,
   "id": "56b2840c",
   "metadata": {},
   "outputs": [],
   "source": [
    "permeability_block = '''\n",
    "      <ParameterList name=\"permeability\">\n",
    "        <Parameter name=\"evaluator type\" type=\"string\" value=\"independent variable\" />\n",
    "        <Parameter name=\"constant in time\" type=\"bool\" value=\"true\" />\n",
    "        <ParameterList name=\"function\" type=\"ParameterList\">\n",
    "          <ParameterList name=\"GLHYMPS_100\" type=\"ParameterList\">\n",
    "            <Parameter name=\"region\" type=\"string\" value=\"GLHYMPS_100\" />\n",
    "            <Parameter name=\"component\" type=\"string\" value=\"cell\" />\n",
    "            <ParameterList name=\"function\" type=\"ParameterList\">\n",
    "              <ParameterList name=\"function-constant\" type=\"ParameterList\">\n",
    "                <Parameter name=\"value\" type=\"double\" value=\"1.58e-12\" />\n",
    "              </ParameterList>\n",
    "            </ParameterList>\n",
    "          </ParameterList>\n",
    "          <ParameterList name=\"NRCS_1000\" type=\"ParameterList\">\n",
    "            <Parameter name=\"region\" type=\"string\" value=\"NRCS_1000\" />\n",
    "            <Parameter name=\"component\" type=\"string\" value=\"cell\" />\n",
    "            <ParameterList name=\"function\" type=\"ParameterList\">\n",
    "              <ParameterList name=\"function-constant\" type=\"ParameterList\">\n",
    "                <Parameter name=\"value\" type=\"double\" value=\"{}\" />\n",
    "              </ParameterList>\n",
    "            </ParameterList>\n",
    "          </ParameterList>\n",
    "          <ParameterList name=\"NRCS_1001\" type=\"ParameterList\">\n",
    "            <Parameter name=\"region\" type=\"string\" value=\"NRCS_1001\" />\n",
    "            <Parameter name=\"component\" type=\"string\" value=\"cell\" />\n",
    "            <ParameterList name=\"function\" type=\"ParameterList\">\n",
    "              <ParameterList name=\"function-constant\" type=\"ParameterList\">\n",
    "                <Parameter name=\"value\" type=\"double\" value=\"4.95e-14\" />\n",
    "              </ParameterList>\n",
    "            </ParameterList>\n",
    "          </ParameterList>\n",
    "        </ParameterList>\n",
    "      </ParameterList>\n",
    "'''"
   ]
  },
  {
   "cell_type": "code",
   "execution_count": 80,
   "id": "9bda5ff4",
   "metadata": {},
   "outputs": [],
   "source": [
    "# ixml = 'ens1'\n",
    "ens_names = ['_' + str(i+1) for i in np.arange(100)]\n",
    "for iens in ens_names[:]:\n",
    "\n",
    "    # iens = 0\n",
    "    l1 = ens_df.loc[iens, 'permeability [m^2]']\n",
    "\n",
    "    permeability_block_file = permeability_block.format(l1)\n",
    "\n",
    "    nline = permeability_block_file.count('\\n') # a total of nline-1 lines since there is a line break '\\n' at the begining\n",
    "\n",
    "    with open(fname_xml_base, 'r') as file:\n",
    "        # read a list of lines into data\n",
    "        xml_base = file.readlines()\n",
    "    # find the starting index for permeability block\n",
    "    ind = xml_base.index('      <ParameterList name=\"permeability\">\\n')\n",
    "\n",
    "    with open(fname_xml_base, 'r') as fin:\n",
    "        with open(ens_dir + iens + '.xml', 'w') as fout:\n",
    "\n",
    "            lines = fin.readlines()\n",
    "\n",
    "            it = iter(enumerate(lines))\n",
    "            for i, line in it:\n",
    "                if i == ind:\n",
    "                    fout.write(permeability_block.format(l1))            \n",
    "                    next(islice(it, nline-2 , nline-2), None) # skip the next (nline-2) lines\n",
    "                else:\n",
    "                    fout.write(line)\n",
    "\n",
    "                         "
   ]
  },
  {
   "cell_type": "code",
   "execution_count": null,
   "id": "303aca44",
   "metadata": {},
   "outputs": [],
   "source": []
  }
 ],
 "metadata": {
  "kernelspec": {
   "display_name": "Python 3 (ipykernel)",
   "language": "python",
   "name": "python3"
  },
  "language_info": {
   "codemirror_mode": {
    "name": "ipython",
    "version": 3
   },
   "file_extension": ".py",
   "mimetype": "text/x-python",
   "name": "python",
   "nbconvert_exporter": "python",
   "pygments_lexer": "ipython3",
   "version": "3.10.6"
  }
 },
 "nbformat": 4,
 "nbformat_minor": 5
}
