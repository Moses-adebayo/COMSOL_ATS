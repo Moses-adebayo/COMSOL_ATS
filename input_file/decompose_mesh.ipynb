{
 "cells": [
  {
   "cell_type": "code",
   "execution_count": 128,
   "id": "c5ca0b79",
   "metadata": {},
   "outputs": [],
   "source": [
    "import h5py\n",
    "import numpy as np\n",
    "import pandas as pd\n",
    "import matplotlib.pyplot as plt"
   ]
  },
  {
   "cell_type": "code",
   "execution_count": 123,
   "id": "8acaa442",
   "metadata": {},
   "outputs": [
    {
     "name": "stdout",
     "output_type": "stream",
     "text": [
      "/Users/mosesadebayo/Library/CloudStorage/OneDrive-UniversityofToledo/WADE_SFA/COMSOL_ATS/1yr_run\n"
     ]
    }
   ],
   "source": [
    "cd ../1yr_run/"
   ]
  },
  {
   "cell_type": "code",
   "execution_count": 126,
   "id": "2b1f4424",
   "metadata": {},
   "outputs": [
    {
     "data": {
      "text/html": [
       "<div>\n",
       "<style scoped>\n",
       "    .dataframe tbody tr th:only-of-type {\n",
       "        vertical-align: middle;\n",
       "    }\n",
       "\n",
       "    .dataframe tbody tr th {\n",
       "        vertical-align: top;\n",
       "    }\n",
       "\n",
       "    .dataframe thead th {\n",
       "        text-align: right;\n",
       "    }\n",
       "</style>\n",
       "<table border=\"1\" class=\"dataframe\">\n",
       "  <thead>\n",
       "    <tr style=\"text-align: right;\">\n",
       "      <th></th>\n",
       "      <th>time [d]</th>\n",
       "      <th>surface water content [mol]</th>\n",
       "      <th>subsurface water content [mol]</th>\n",
       "      <th>snow water content [mol]</th>\n",
       "      <th>canopy water content [mol]</th>\n",
       "      <th>runoff generation [mol d^-1]</th>\n",
       "      <th>evapotranspiration [m d^-1]</th>\n",
       "      <th>snow precipitation [m d^-1]</th>\n",
       "      <th>rain precipitation [m d^-1]</th>\n",
       "      <th>canopy evaporation [m d^-1]</th>\n",
       "      <th>canopy drainage [m d^-1]</th>\n",
       "      <th>canopy interception [m d^-1]</th>\n",
       "      <th>snow evaporation [m d^-1]</th>\n",
       "      <th>snowmelt [m d^-1]</th>\n",
       "      <th>snow throughfall + canopy drainage [m d^-1]</th>\n",
       "      <th>surface evaporation [m d^-1]</th>\n",
       "      <th>water throughfall + canopy drainage [m d^-1]</th>\n",
       "      <th>transpiration [m d^-1]</th>\n",
       "      <th>exfiltration [mol d^-1]</th>\n",
       "    </tr>\n",
       "  </thead>\n",
       "  <tbody>\n",
       "    <tr>\n",
       "      <th>0</th>\n",
       "      <td>2190.0</td>\n",
       "      <td>0.000000</td>\n",
       "      <td>1.943337e+07</td>\n",
       "      <td>0.0</td>\n",
       "      <td>0.000000</td>\n",
       "      <td>0.0</td>\n",
       "      <td>0.000000</td>\n",
       "      <td>0.0</td>\n",
       "      <td>0.000000</td>\n",
       "      <td>0.000000e+00</td>\n",
       "      <td>0.000000</td>\n",
       "      <td>0.000000</td>\n",
       "      <td>0.0</td>\n",
       "      <td>0.0</td>\n",
       "      <td>0.0</td>\n",
       "      <td>0.000000</td>\n",
       "      <td>0.000000</td>\n",
       "      <td>0.000000</td>\n",
       "      <td>0.000000</td>\n",
       "    </tr>\n",
       "    <tr>\n",
       "      <th>1</th>\n",
       "      <td>2191.0</td>\n",
       "      <td>19846.746409</td>\n",
       "      <td>2.050195e+07</td>\n",
       "      <td>0.0</td>\n",
       "      <td>0.000000</td>\n",
       "      <td>0.0</td>\n",
       "      <td>0.000011</td>\n",
       "      <td>0.0</td>\n",
       "      <td>0.000000</td>\n",
       "      <td>0.000000e+00</td>\n",
       "      <td>0.000000</td>\n",
       "      <td>0.000000</td>\n",
       "      <td>0.0</td>\n",
       "      <td>0.0</td>\n",
       "      <td>0.0</td>\n",
       "      <td>0.000011</td>\n",
       "      <td>0.000000</td>\n",
       "      <td>0.000000</td>\n",
       "      <td>-22155.055230</td>\n",
       "    </tr>\n",
       "    <tr>\n",
       "      <th>2</th>\n",
       "      <td>2192.0</td>\n",
       "      <td>17955.989840</td>\n",
       "      <td>2.095238e+07</td>\n",
       "      <td>0.0</td>\n",
       "      <td>0.000000</td>\n",
       "      <td>0.0</td>\n",
       "      <td>0.000013</td>\n",
       "      <td>0.0</td>\n",
       "      <td>0.000000</td>\n",
       "      <td>0.000000e+00</td>\n",
       "      <td>0.000000</td>\n",
       "      <td>0.000000</td>\n",
       "      <td>0.0</td>\n",
       "      <td>0.0</td>\n",
       "      <td>0.0</td>\n",
       "      <td>0.000013</td>\n",
       "      <td>0.000000</td>\n",
       "      <td>0.000000</td>\n",
       "      <td>-4554.792490</td>\n",
       "    </tr>\n",
       "    <tr>\n",
       "      <th>3</th>\n",
       "      <td>2193.0</td>\n",
       "      <td>18905.541132</td>\n",
       "      <td>2.130675e+07</td>\n",
       "      <td>0.0</td>\n",
       "      <td>0.000000</td>\n",
       "      <td>0.0</td>\n",
       "      <td>0.000004</td>\n",
       "      <td>0.0</td>\n",
       "      <td>0.000000</td>\n",
       "      <td>0.000000e+00</td>\n",
       "      <td>0.000000</td>\n",
       "      <td>0.000000</td>\n",
       "      <td>0.0</td>\n",
       "      <td>0.0</td>\n",
       "      <td>0.0</td>\n",
       "      <td>0.000004</td>\n",
       "      <td>0.000000</td>\n",
       "      <td>0.000000</td>\n",
       "      <td>-2741.611815</td>\n",
       "    </tr>\n",
       "    <tr>\n",
       "      <th>4</th>\n",
       "      <td>2194.0</td>\n",
       "      <td>14469.490669</td>\n",
       "      <td>2.160746e+07</td>\n",
       "      <td>0.0</td>\n",
       "      <td>0.000000</td>\n",
       "      <td>0.0</td>\n",
       "      <td>0.000004</td>\n",
       "      <td>0.0</td>\n",
       "      <td>0.000000</td>\n",
       "      <td>0.000000e+00</td>\n",
       "      <td>0.000000</td>\n",
       "      <td>0.000000</td>\n",
       "      <td>0.0</td>\n",
       "      <td>0.0</td>\n",
       "      <td>0.0</td>\n",
       "      <td>0.000004</td>\n",
       "      <td>0.000000</td>\n",
       "      <td>0.000000</td>\n",
       "      <td>-1973.628642</td>\n",
       "    </tr>\n",
       "    <tr>\n",
       "      <th>...</th>\n",
       "      <td>...</td>\n",
       "      <td>...</td>\n",
       "      <td>...</td>\n",
       "      <td>...</td>\n",
       "      <td>...</td>\n",
       "      <td>...</td>\n",
       "      <td>...</td>\n",
       "      <td>...</td>\n",
       "      <td>...</td>\n",
       "      <td>...</td>\n",
       "      <td>...</td>\n",
       "      <td>...</td>\n",
       "      <td>...</td>\n",
       "      <td>...</td>\n",
       "      <td>...</td>\n",
       "      <td>...</td>\n",
       "      <td>...</td>\n",
       "      <td>...</td>\n",
       "      <td>...</td>\n",
       "    </tr>\n",
       "    <tr>\n",
       "      <th>89</th>\n",
       "      <td>2279.0</td>\n",
       "      <td>50197.970663</td>\n",
       "      <td>2.824213e+07</td>\n",
       "      <td>0.0</td>\n",
       "      <td>0.620905</td>\n",
       "      <td>0.0</td>\n",
       "      <td>0.000269</td>\n",
       "      <td>0.0</td>\n",
       "      <td>0.000000</td>\n",
       "      <td>1.745918e-07</td>\n",
       "      <td>0.000000</td>\n",
       "      <td>0.000000</td>\n",
       "      <td>0.0</td>\n",
       "      <td>0.0</td>\n",
       "      <td>0.0</td>\n",
       "      <td>0.000000</td>\n",
       "      <td>0.000000</td>\n",
       "      <td>0.000269</td>\n",
       "      <td>168.373644</td>\n",
       "    </tr>\n",
       "    <tr>\n",
       "      <th>90</th>\n",
       "      <td>2280.0</td>\n",
       "      <td>49068.841774</td>\n",
       "      <td>2.821196e+07</td>\n",
       "      <td>0.0</td>\n",
       "      <td>0.505264</td>\n",
       "      <td>0.0</td>\n",
       "      <td>0.000022</td>\n",
       "      <td>0.0</td>\n",
       "      <td>0.000000</td>\n",
       "      <td>1.061894e-08</td>\n",
       "      <td>0.000000</td>\n",
       "      <td>0.000000</td>\n",
       "      <td>0.0</td>\n",
       "      <td>0.0</td>\n",
       "      <td>0.0</td>\n",
       "      <td>0.000000</td>\n",
       "      <td>0.000000</td>\n",
       "      <td>0.000022</td>\n",
       "      <td>161.447092</td>\n",
       "    </tr>\n",
       "    <tr>\n",
       "      <th>91</th>\n",
       "      <td>2281.0</td>\n",
       "      <td>48550.710460</td>\n",
       "      <td>2.818545e+07</td>\n",
       "      <td>0.0</td>\n",
       "      <td>0.505264</td>\n",
       "      <td>0.0</td>\n",
       "      <td>0.000000</td>\n",
       "      <td>0.0</td>\n",
       "      <td>0.000000</td>\n",
       "      <td>0.000000e+00</td>\n",
       "      <td>0.000000</td>\n",
       "      <td>0.000000</td>\n",
       "      <td>0.0</td>\n",
       "      <td>0.0</td>\n",
       "      <td>0.0</td>\n",
       "      <td>0.000000</td>\n",
       "      <td>0.000000</td>\n",
       "      <td>0.000000</td>\n",
       "      <td>139.583244</td>\n",
       "    </tr>\n",
       "    <tr>\n",
       "      <th>92</th>\n",
       "      <td>2282.0</td>\n",
       "      <td>48385.729657</td>\n",
       "      <td>2.816149e+07</td>\n",
       "      <td>0.0</td>\n",
       "      <td>0.505264</td>\n",
       "      <td>0.0</td>\n",
       "      <td>0.000032</td>\n",
       "      <td>0.0</td>\n",
       "      <td>0.000000</td>\n",
       "      <td>0.000000e+00</td>\n",
       "      <td>0.000000</td>\n",
       "      <td>0.000000</td>\n",
       "      <td>0.0</td>\n",
       "      <td>0.0</td>\n",
       "      <td>0.0</td>\n",
       "      <td>0.000032</td>\n",
       "      <td>0.000000</td>\n",
       "      <td>0.000000</td>\n",
       "      <td>413.368305</td>\n",
       "    </tr>\n",
       "    <tr>\n",
       "      <th>93</th>\n",
       "      <td>2283.0</td>\n",
       "      <td>47577.284997</td>\n",
       "      <td>2.817725e+07</td>\n",
       "      <td>0.0</td>\n",
       "      <td>987.548883</td>\n",
       "      <td>0.0</td>\n",
       "      <td>0.001986</td>\n",
       "      <td>0.0</td>\n",
       "      <td>0.005588</td>\n",
       "      <td>0.000000e+00</td>\n",
       "      <td>0.000401</td>\n",
       "      <td>0.000491</td>\n",
       "      <td>0.0</td>\n",
       "      <td>0.0</td>\n",
       "      <td>0.0</td>\n",
       "      <td>0.001986</td>\n",
       "      <td>0.005497</td>\n",
       "      <td>0.000000</td>\n",
       "      <td>-37911.653537</td>\n",
       "    </tr>\n",
       "  </tbody>\n",
       "</table>\n",
       "<p>94 rows × 19 columns</p>\n",
       "</div>"
      ],
      "text/plain": [
       "    time [d]  surface water content [mol]  subsurface water content [mol]  \\\n",
       "0     2190.0                     0.000000                    1.943337e+07   \n",
       "1     2191.0                 19846.746409                    2.050195e+07   \n",
       "2     2192.0                 17955.989840                    2.095238e+07   \n",
       "3     2193.0                 18905.541132                    2.130675e+07   \n",
       "4     2194.0                 14469.490669                    2.160746e+07   \n",
       "..       ...                          ...                             ...   \n",
       "89    2279.0                 50197.970663                    2.824213e+07   \n",
       "90    2280.0                 49068.841774                    2.821196e+07   \n",
       "91    2281.0                 48550.710460                    2.818545e+07   \n",
       "92    2282.0                 48385.729657                    2.816149e+07   \n",
       "93    2283.0                 47577.284997                    2.817725e+07   \n",
       "\n",
       "    snow water content [mol]  canopy water content [mol]  \\\n",
       "0                        0.0                    0.000000   \n",
       "1                        0.0                    0.000000   \n",
       "2                        0.0                    0.000000   \n",
       "3                        0.0                    0.000000   \n",
       "4                        0.0                    0.000000   \n",
       "..                       ...                         ...   \n",
       "89                       0.0                    0.620905   \n",
       "90                       0.0                    0.505264   \n",
       "91                       0.0                    0.505264   \n",
       "92                       0.0                    0.505264   \n",
       "93                       0.0                  987.548883   \n",
       "\n",
       "    runoff generation [mol d^-1]  evapotranspiration [m d^-1]  \\\n",
       "0                            0.0                     0.000000   \n",
       "1                            0.0                     0.000011   \n",
       "2                            0.0                     0.000013   \n",
       "3                            0.0                     0.000004   \n",
       "4                            0.0                     0.000004   \n",
       "..                           ...                          ...   \n",
       "89                           0.0                     0.000269   \n",
       "90                           0.0                     0.000022   \n",
       "91                           0.0                     0.000000   \n",
       "92                           0.0                     0.000032   \n",
       "93                           0.0                     0.001986   \n",
       "\n",
       "    snow precipitation [m d^-1]  rain precipitation [m d^-1]  \\\n",
       "0                           0.0                     0.000000   \n",
       "1                           0.0                     0.000000   \n",
       "2                           0.0                     0.000000   \n",
       "3                           0.0                     0.000000   \n",
       "4                           0.0                     0.000000   \n",
       "..                          ...                          ...   \n",
       "89                          0.0                     0.000000   \n",
       "90                          0.0                     0.000000   \n",
       "91                          0.0                     0.000000   \n",
       "92                          0.0                     0.000000   \n",
       "93                          0.0                     0.005588   \n",
       "\n",
       "    canopy evaporation [m d^-1]  canopy drainage [m d^-1]  \\\n",
       "0                  0.000000e+00                  0.000000   \n",
       "1                  0.000000e+00                  0.000000   \n",
       "2                  0.000000e+00                  0.000000   \n",
       "3                  0.000000e+00                  0.000000   \n",
       "4                  0.000000e+00                  0.000000   \n",
       "..                          ...                       ...   \n",
       "89                 1.745918e-07                  0.000000   \n",
       "90                 1.061894e-08                  0.000000   \n",
       "91                 0.000000e+00                  0.000000   \n",
       "92                 0.000000e+00                  0.000000   \n",
       "93                 0.000000e+00                  0.000401   \n",
       "\n",
       "    canopy interception [m d^-1]  snow evaporation [m d^-1]  \\\n",
       "0                       0.000000                        0.0   \n",
       "1                       0.000000                        0.0   \n",
       "2                       0.000000                        0.0   \n",
       "3                       0.000000                        0.0   \n",
       "4                       0.000000                        0.0   \n",
       "..                           ...                        ...   \n",
       "89                      0.000000                        0.0   \n",
       "90                      0.000000                        0.0   \n",
       "91                      0.000000                        0.0   \n",
       "92                      0.000000                        0.0   \n",
       "93                      0.000491                        0.0   \n",
       "\n",
       "    snowmelt [m d^-1]  snow throughfall + canopy drainage [m d^-1]  \\\n",
       "0                 0.0                                          0.0   \n",
       "1                 0.0                                          0.0   \n",
       "2                 0.0                                          0.0   \n",
       "3                 0.0                                          0.0   \n",
       "4                 0.0                                          0.0   \n",
       "..                ...                                          ...   \n",
       "89                0.0                                          0.0   \n",
       "90                0.0                                          0.0   \n",
       "91                0.0                                          0.0   \n",
       "92                0.0                                          0.0   \n",
       "93                0.0                                          0.0   \n",
       "\n",
       "    surface evaporation [m d^-1]  \\\n",
       "0                       0.000000   \n",
       "1                       0.000011   \n",
       "2                       0.000013   \n",
       "3                       0.000004   \n",
       "4                       0.000004   \n",
       "..                           ...   \n",
       "89                      0.000000   \n",
       "90                      0.000000   \n",
       "91                      0.000000   \n",
       "92                      0.000032   \n",
       "93                      0.001986   \n",
       "\n",
       "    water throughfall + canopy drainage [m d^-1]  transpiration [m d^-1]  \\\n",
       "0                                       0.000000                0.000000   \n",
       "1                                       0.000000                0.000000   \n",
       "2                                       0.000000                0.000000   \n",
       "3                                       0.000000                0.000000   \n",
       "4                                       0.000000                0.000000   \n",
       "..                                           ...                     ...   \n",
       "89                                      0.000000                0.000269   \n",
       "90                                      0.000000                0.000022   \n",
       "91                                      0.000000                0.000000   \n",
       "92                                      0.000000                0.000000   \n",
       "93                                      0.005497                0.000000   \n",
       "\n",
       "    exfiltration [mol d^-1]  \n",
       "0                  0.000000  \n",
       "1             -22155.055230  \n",
       "2              -4554.792490  \n",
       "3              -2741.611815  \n",
       "4              -1973.628642  \n",
       "..                      ...  \n",
       "89               168.373644  \n",
       "90               161.447092  \n",
       "91               139.583244  \n",
       "92               413.368305  \n",
       "93            -37911.653537  \n",
       "\n",
       "[94 rows x 19 columns]"
      ]
     },
     "execution_count": 126,
     "metadata": {},
     "output_type": "execute_result"
    }
   ],
   "source": [
    "jj=pd.read_csv('water_balance.dat',skiprows=112)\n",
    "jj"
   ]
  },
  {
   "cell_type": "code",
   "execution_count": 135,
   "id": "7bb7ce0d",
   "metadata": {},
   "outputs": [
    {
     "data": {
      "text/plain": [
       "[<matplotlib.lines.Line2D at 0x1614b3970>]"
      ]
     },
     "execution_count": 135,
     "metadata": {},
     "output_type": "execute_result"
    },
    {
     "data": {
      "image/png": "[encoded data removed]",
      "text/plain": [
       "<Figure size 640x480 with 1 Axes>"
      ]
     },
     "metadata": {},
     "output_type": "display_data"
    }
   ],
   "source": [
    "plt.plot(jj['exfiltration [mol d^-1]'])"
   ]
  },
  {
   "cell_type": "code",
   "execution_count": 177,
   "id": "27a86efe",
   "metadata": {},
   "outputs": [
    {
     "data": {
      "text/plain": [
       "array([0., 0., 0., 0., 0., 0., 0., 0., 0., 0., 0., 0., 0., 0., 0., 0., 0.,\n",
       "       0., 0., 0., 0., 0., 0., 0., 0., 0., 0., 0., 0., 0., 0., 0., 0., 0.,\n",
       "       0., 0., 0., 0., 0., 0., 0., 0., 0., 0., 0., 0., 0., 0., 0., 0., 0.,\n",
       "       0., 0., 0., 0., 0., 0., 0., 0., 0., 0., 0., 0., 0., 0., 0., 0., 0.,\n",
       "       0., 0., 0., 0., 0., 0., 0., 0., 0., 0., 0., 0., 0., 0., 0., 0., 0.,\n",
       "       0., 0., 0., 0., 0., 0., 0., 0., 0., 0., 0., 0., 0., 0., 0., 0., 0.,\n",
       "       0., 0., 0., 0., 0., 0., 0., 0., 0., 0., 0., 0., 0., 0., 0., 0., 0.,\n",
       "       0., 0., 0., 0., 0., 0., 0., 0., 0., 0., 0., 0., 0., 0.])"
      ]
     },
     "execution_count": 177,
     "metadata": {},
     "output_type": "execute_result"
    }
   ],
   "source": [
    "df=h5.File('checkpoint00187.h5','r')\n",
    "df['surface-velocity.cell.1'][:].reshape(-1,)"
   ]
  },
  {
   "cell_type": "code",
   "execution_count": 178,
   "id": "d0068696",
   "metadata": {},
   "outputs": [
    {
     "data": {
      "text/plain": [
       "0.0"
      ]
     },
     "execution_count": 178,
     "metadata": {},
     "output_type": "execute_result"
    }
   ],
   "source": [
    "np.min(df['surface-velocity.cell.1'][:].reshape(-1,))"
   ]
  },
  {
   "cell_type": "code",
   "execution_count": 179,
   "id": "294171b4",
   "metadata": {},
   "outputs": [
    {
     "data": {
      "text/plain": [
       "0.0"
      ]
     },
     "execution_count": 179,
     "metadata": {},
     "output_type": "execute_result"
    }
   ],
   "source": [
    "np.max(df['surface-velocity.cell.1'][:].reshape(-1,))"
   ]
  },
  {
   "cell_type": "code",
   "execution_count": null,
   "id": "954e6491",
   "metadata": {},
   "outputs": [],
   "source": []
  },
  {
   "cell_type": "code",
   "execution_count": 199,
   "id": "c5f56107",
   "metadata": {},
   "outputs": [
    {
     "data": {
      "text/plain": [
       "0.007995447031686113"
      ]
     },
     "execution_count": 199,
     "metadata": {},
     "output_type": "execute_result"
    }
   ],
   "source": [
    "np.min(df['upwind_relative_permeability.face.0'][:].reshape(-1,))"
   ]
  },
  {
   "cell_type": "code",
   "execution_count": 198,
   "id": "acf2c142",
   "metadata": {},
   "outputs": [
    {
     "data": {
      "text/plain": [
       "6.179775280898877"
      ]
     },
     "execution_count": 198,
     "metadata": {},
     "output_type": "execute_result"
    }
   ],
   "source": [
    "np.max(df['upwind_relative_permeability.face.0'][:].reshape(-1,))"
   ]
  },
  {
   "cell_type": "code",
   "execution_count": null,
   "id": "aa34ada8",
   "metadata": {},
   "outputs": [],
   "source": []
  },
  {
   "cell_type": "code",
   "execution_count": 181,
   "id": "fc3ed240",
   "metadata": {},
   "outputs": [
    {
     "data": {
      "text/plain": [
       "0.0"
      ]
     },
     "execution_count": 181,
     "metadata": {},
     "output_type": "execute_result"
    }
   ],
   "source": [
    "np.max(df['surface-velocity.cell.0'][:].reshape(-1,))"
   ]
  },
  {
   "cell_type": "code",
   "execution_count": 182,
   "id": "8a428a87",
   "metadata": {},
   "outputs": [
    {
     "data": {
      "text/plain": [
       "0.0"
      ]
     },
     "execution_count": 182,
     "metadata": {},
     "output_type": "execute_result"
    }
   ],
   "source": [
    "np.min(df['surface-velocity.cell.2'][:].reshape(-1,))"
   ]
  },
  {
   "cell_type": "code",
   "execution_count": 183,
   "id": "7fc9efda",
   "metadata": {},
   "outputs": [
    {
     "data": {
      "text/plain": [
       "0.0"
      ]
     },
     "execution_count": 183,
     "metadata": {},
     "output_type": "execute_result"
    }
   ],
   "source": [
    "np.max(df['surface-velocity.cell.2'][:].reshape(-1,))"
   ]
  },
  {
   "cell_type": "code",
   "execution_count": null,
   "id": "bb969bfc",
   "metadata": {},
   "outputs": [],
   "source": []
  },
  {
   "cell_type": "code",
   "execution_count": null,
   "id": "941244ff",
   "metadata": {},
   "outputs": [],
   "source": []
  },
  {
   "cell_type": "code",
   "execution_count": null,
   "id": "24cac22b",
   "metadata": {},
   "outputs": [],
   "source": []
  },
  {
   "cell_type": "code",
   "execution_count": 12,
   "id": "a7f51adb",
   "metadata": {},
   "outputs": [
    {
     "ename": "ValueError",
     "evalue": "Unknown element type: 9",
     "output_type": "error",
     "traceback": [
      "\u001b[1;31m---------------------------------------------------------------------------\u001b[0m",
      "\u001b[1;31mValueError\u001b[0m                                Traceback (most recent call last)",
      "Cell \u001b[1;32mIn[12], line 28\u001b[0m\n\u001b[0;32m     25\u001b[0m     \u001b[38;5;28;01mreturn\u001b[39;00m parsed_elements\n\u001b[0;32m     27\u001b[0m \u001b[38;5;66;03m# Parse the mixed elements\u001b[39;00m\n\u001b[1;32m---> 28\u001b[0m parsed_elements \u001b[38;5;241m=\u001b[39m parse_mixed_elements(elements\u001b[38;5;241m.\u001b[39mreshape(\u001b[38;5;241m-\u001b[39m\u001b[38;5;241m1\u001b[39m,))\n\u001b[0;32m     30\u001b[0m \u001b[38;5;66;03m# Compute centroids for each element\u001b[39;00m\n\u001b[0;32m     31\u001b[0m element_centroids \u001b[38;5;241m=\u001b[39m []\n",
      "Cell \u001b[1;32mIn[12], line 24\u001b[0m, in \u001b[0;36mparse_mixed_elements\u001b[1;34m(elements)\u001b[0m\n\u001b[0;32m     22\u001b[0m         i \u001b[38;5;241m+\u001b[39m\u001b[38;5;241m=\u001b[39m \u001b[38;5;241m9\u001b[39m\n\u001b[0;32m     23\u001b[0m     \u001b[38;5;28;01melse\u001b[39;00m:\n\u001b[1;32m---> 24\u001b[0m         \u001b[38;5;28;01mraise\u001b[39;00m \u001b[38;5;167;01mValueError\u001b[39;00m(\u001b[38;5;124mf\u001b[39m\u001b[38;5;124m\"\u001b[39m\u001b[38;5;124mUnknown element type: \u001b[39m\u001b[38;5;132;01m{\u001b[39;00melem_type\u001b[38;5;132;01m}\u001b[39;00m\u001b[38;5;124m\"\u001b[39m)\n\u001b[0;32m     25\u001b[0m \u001b[38;5;28;01mreturn\u001b[39;00m parsed_elements\n",
      "\u001b[1;31mValueError\u001b[0m: Unknown element type: 9"
     ]
    }
   ],
   "source": [
    "# File paths\n",
    "file_path = \"../1yr_run/ats_vis_mesh.h5\"\n",
    "nodes_path = \"/0/Mesh/Nodes\"\n",
    "elements_path = \"/0/Mesh/MixedElements\"\n",
    "\n",
    "# Load the data\n",
    "with h5py.File(file_path, 'r') as f:\n",
    "    nodes = f[nodes_path][()]  # Load node coordinates\n",
    "    elements = f[elements_path][()]  # Load element connectivity\n",
    "\n",
    "# Helper function to parse Mixed Elements\n",
    "def parse_mixed_elements(elements):\n",
    "    parsed_elements = []\n",
    "    i = 0\n",
    "    while i < len(elements):\n",
    "        elem_type = elements[i]  # First value is the element type\n",
    "        if elem_type == 4:  # Tetrahedron, for example\n",
    "            parsed_elements.append(elements[i+1:i+5])  # Next 4 indices\n",
    "            i += 5\n",
    "        elif elem_type == 8:  # Hexahedron, for example\n",
    "            parsed_elements.append(elements[i+1:i+9])  # Next 8 indices\n",
    "            i += 9\n",
    "        else:\n",
    "            raise ValueError(f\"Unknown element type: {elem_type}\")\n",
    "    return parsed_elements\n",
    "\n",
    "# Parse the mixed elements\n",
    "parsed_elements = parse_mixed_elements(elements.reshape(-1,))\n",
    "\n",
    "# Compute centroids for each element\n",
    "element_centroids = []\n",
    "for element in parsed_elements:\n",
    "    element_coords = nodes[element]  # Get coordinates of element nodes\n",
    "    element_centroid = np.mean(element_coords, axis=0)  # Average of node coordinates\n",
    "    element_centroids.append(element_centroid)"
   ]
  },
  {
   "cell_type": "code",
   "execution_count": 14,
   "id": "d0c17aa2",
   "metadata": {},
   "outputs": [
    {
     "data": {
      "text/plain": [
       "array([    0,     1,     2, ..., 13221, 13222, 13223])"
      ]
     },
     "execution_count": 14,
     "metadata": {},
     "output_type": "execute_result"
    }
   ],
   "source": [
    "np.unique(elements.reshape(-1,))"
   ]
  },
  {
   "cell_type": "code",
   "execution_count": 5,
   "id": "20134b22",
   "metadata": {},
   "outputs": [
    {
     "data": {
      "text/plain": [
       "array([ 64.8245614 ,   0.5       , 258.35103412])"
      ]
     },
     "execution_count": 5,
     "metadata": {},
     "output_type": "execute_result"
    }
   ],
   "source": [
    "centroid"
   ]
  },
  {
   "cell_type": "code",
   "execution_count": 24,
   "id": "fc39e3f7",
   "metadata": {},
   "outputs": [],
   "source": [
    "df=h5.File('../1yr_run/ats_vis_mesh.h5','r')"
   ]
  },
  {
   "cell_type": "code",
   "execution_count": 25,
   "id": "301199cb",
   "metadata": {},
   "outputs": [
    {
     "data": {
      "text/plain": [
       "<KeysViewHDF5 ['0']>"
      ]
     },
     "execution_count": 25,
     "metadata": {},
     "output_type": "execute_result"
    }
   ],
   "source": [
    "df.keys()"
   ]
  },
  {
   "cell_type": "code",
   "execution_count": 50,
   "id": "4751a1af",
   "metadata": {},
   "outputs": [
    {
     "data": {
      "text/plain": [
       "array([2.500000e-01, 5.000000e-01, 2.593618e+02])"
      ]
     },
     "execution_count": 50,
     "metadata": {},
     "output_type": "execute_result"
    }
   ],
   "source": [
    "np.mean(df['0']['Mesh']['Nodes'][:8],axis =0)"
   ]
  },
  {
   "cell_type": "code",
   "execution_count": 116,
   "id": "f55bc896",
   "metadata": {},
   "outputs": [],
   "source": [
    "ab={}\n",
    "count=0\n",
    "for i in range(0,109,4):\n",
    "    j=df['0']['Mesh']['Nodes'][i:i+8]\n",
    "    ab[count]=np.mean(j,axis=0)\n",
    "    count+=1\n",
    "for i in np.arange(116,171,2):\n",
    "    j=np.vstack((df['0']['Mesh']['Nodes'][i:i+4],df['0']['Mesh']['Nodes'][[i-115,i-114,i-111,i-110]]))\n",
    "    ab[count]=np.mean(j,axis=0)\n",
    "    count+=1\n",
    "cntrl=0\n",
    "for i in np.arange(174,13221,2):\n",
    "    if i==174:\n",
    "        j=np.vstack((df['0']['Mesh']['Nodes'][i:i+4],df['0']['Mesh']['Nodes'][i-58:i-54]))\n",
    "        ab[count]=np.mean(j,axis=0)\n",
    "        count+=1\n",
    "        cntrl+=1\n",
    "        continue\n",
    "    if cntrl % 58==0:\n",
    "        cntrl+=1\n",
    "        continue\n",
    "    j=np.vstack((df['0']['Mesh']['Nodes'][i:i+4],df['0']['Mesh']['Nodes'][i-58:i-54]))\n",
    "    ab[count]=np.mean(j,axis=0)\n",
    "    count+=1\n",
    "    cntrl+=1"
   ]
  },
  {
   "cell_type": "code",
   "execution_count": 117,
   "id": "0f5883f0",
   "metadata": {},
   "outputs": [
    {
     "data": {
      "text/plain": [
       "6468"
      ]
     },
     "execution_count": 117,
     "metadata": {},
     "output_type": "execute_result"
    }
   ],
   "source": [
    "len(ab)"
   ]
  },
  {
   "cell_type": "code",
   "execution_count": 103,
   "id": "c2717a15",
   "metadata": {},
   "outputs": [
    {
     "data": {
      "text/plain": [
       "13222"
      ]
     },
     "execution_count": 103,
     "metadata": {},
     "output_type": "execute_result"
    }
   ],
   "source": [
    "i"
   ]
  },
  {
   "cell_type": "code",
   "execution_count": 93,
   "id": "3bf73976",
   "metadata": {},
   "outputs": [
    {
     "data": {
      "text/plain": [
       "13224"
      ]
     },
     "execution_count": 93,
     "metadata": {},
     "output_type": "execute_result"
    }
   ],
   "source": [
    "len(df['0']['Mesh']['Nodes'][:])"
   ]
  },
  {
   "cell_type": "code",
   "execution_count": 73,
   "id": "72897d6b",
   "metadata": {},
   "outputs": [
    {
     "data": {
      "text/plain": [
       "232"
      ]
     },
     "execution_count": 73,
     "metadata": {},
     "output_type": "execute_result"
    }
   ],
   "source": [
    "116*2z"
   ]
  },
  {
   "cell_type": "code",
   "execution_count": 58,
   "id": "f842dd4d",
   "metadata": {},
   "outputs": [
    {
     "data": {
      "text/plain": [
       "-8"
      ]
     },
     "execution_count": 58,
     "metadata": {},
     "output_type": "execute_result"
    }
   ],
   "source": [
    "(i-1)*8"
   ]
  },
  {
   "cell_type": "code",
   "execution_count": 66,
   "id": "79f309f7",
   "metadata": {},
   "outputs": [
    {
     "data": {
      "text/plain": [
       "array([[  0.    ,   0.    , 259.4118],\n",
       "       [  0.5   ,   0.    , 259.4118],\n",
       "       [  0.5   ,   1.    , 259.4118],\n",
       "       [  0.    ,   1.    , 259.4118],\n",
       "       [  0.    ,   0.    , 259.3118],\n",
       "       [  0.5   ,   0.    , 259.3118],\n",
       "       [  0.5   ,   1.    , 259.3118],\n",
       "       [  0.    ,   1.    , 259.3118]])"
      ]
     },
     "execution_count": 66,
     "metadata": {},
     "output_type": "execute_result"
    }
   ],
   "source": [
    "df['0']['Mesh']['Nodes'][0:8]"
   ]
  },
  {
   "cell_type": "code",
   "execution_count": 86,
   "id": "bb5d45d8",
   "metadata": {},
   "outputs": [
    {
     "data": {
      "text/plain": [
       "array([[  1.5       ,   0.        , 258.73995621],\n",
       "       [  1.5       ,   1.        , 258.73995621],\n",
       "       [  1.5       ,   0.        , 258.63995621],\n",
       "       [  1.5       ,   1.        , 258.63995621],\n",
       "       [  1.        ,   0.        , 259.41183748],\n",
       "       [  1.        ,   1.        , 259.41183748],\n",
       "       [  1.        ,   0.        , 259.31183748],\n",
       "       [  1.        ,   1.        , 259.31183748]])"
      ]
     },
     "execution_count": 86,
     "metadata": {},
     "output_type": "execute_result"
    }
   ],
   "source": [
    "i=174\n",
    "np.vstack((df['0']['Mesh']['Nodes'][i:i+4],df['0']['Mesh']['Nodes'][i-58:i-54]))"
   ]
  },
  {
   "cell_type": "code",
   "execution_count": 80,
   "id": "ad2318cc",
   "metadata": {},
   "outputs": [
    {
     "data": {
      "text/plain": [
       "array([[  2.        ,   0.        , 259.46839744],\n",
       "       [  2.        ,   1.        , 259.46839744],\n",
       "       [  2.        ,   0.        , 259.36839744],\n",
       "       [  2.        ,   1.        , 259.36839744]])"
      ]
     },
     "execution_count": 80,
     "metadata": {},
     "output_type": "execute_result"
    }
   ],
   "source": [
    "df['0']['Mesh']['Nodes'][i:i+4]"
   ]
  },
  {
   "cell_type": "code",
   "execution_count": 82,
   "id": "a363fb8b",
   "metadata": {},
   "outputs": [
    {
     "data": {
      "text/plain": [
       "array([[  1.        ,   0.        , 259.41183748],\n",
       "       [  1.        ,   0.        , 259.21183748]])"
      ]
     },
     "execution_count": 82,
     "metadata": {},
     "output_type": "execute_result"
    }
   ],
   "source": [
    "df['0']['Mesh']['Nodes'][[i-116,i-112]]"
   ]
  },
  {
   "cell_type": "code",
   "execution_count": 60,
   "id": "39697221",
   "metadata": {},
   "outputs": [
    {
     "data": {
      "text/plain": [
       "{0: array([2.500000e-01, 5.000000e-01, 2.593618e+02])}"
      ]
     },
     "execution_count": 60,
     "metadata": {},
     "output_type": "execute_result"
    }
   ],
   "source": [
    "ab"
   ]
  },
  {
   "cell_type": "code",
   "execution_count": 45,
   "id": "d292dba9",
   "metadata": {},
   "outputs": [
    {
     "data": {
      "text/plain": [
       "{12: 1, 15: 1}"
      ]
     },
     "execution_count": 45,
     "metadata": {},
     "output_type": "execute_result"
    }
   ],
   "source": [
    "ab[15]=1\n",
    "ab"
   ]
  },
  {
   "cell_type": "code",
   "execution_count": 46,
   "id": "0f099163",
   "metadata": {},
   "outputs": [
    {
     "ename": "AttributeError",
     "evalue": "'dict' object has no attribute 'shape'",
     "output_type": "error",
     "traceback": [
      "\u001b[0;31m---------------------------------------------------------------------------\u001b[0m",
      "\u001b[0;31mAttributeError\u001b[0m                            Traceback (most recent call last)",
      "Input \u001b[0;32mIn [46]\u001b[0m, in \u001b[0;36m<cell line: 1>\u001b[0;34m()\u001b[0m\n\u001b[0;32m----> 1\u001b[0m \u001b[43mab\u001b[49m\u001b[38;5;241;43m.\u001b[39;49m\u001b[43mshape\u001b[49m\n",
      "\u001b[0;31mAttributeError\u001b[0m: 'dict' object has no attribute 'shape'"
     ]
    }
   ],
   "source": [
    "ab.shape"
   ]
  },
  {
   "cell_type": "code",
   "execution_count": null,
   "id": "98e5a85f",
   "metadata": {},
   "outputs": [],
   "source": []
  }
 ],
 "metadata": {
  "kernelspec": {
   "display_name": "Python 3 (ipykernel)",
   "language": "python",
   "name": "python3"
  },
  "language_info": {
   "codemirror_mode": {
    "name": "ipython",
    "version": 3
   },
   "file_extension": ".py",
   "mimetype": "text/x-python",
   "name": "python",
   "nbconvert_exporter": "python",
   "pygments_lexer": "ipython3",
   "version": "3.10.6"
  }
 },
 "nbformat": 4,
 "nbformat_minor": 5
}
