{
 "cells": [
  {
   "cell_type": "code",
   "execution_count": 113,
   "id": "ee2214a2-9514-4b26-85b8-e373bc1f1406",
   "metadata": {},
   "outputs": [],
   "source": [
    "import pandas as pd\n",
    "import h5py\n",
    "import matplotlib.pyplot as plt\n",
    "import numpy as np"
   ]
  },
  {
   "cell_type": "code",
   "execution_count": 116,
   "id": "5a621a3b-2e04-4944-a37e-ec36295dfc44",
   "metadata": {},
   "outputs": [
    {
     "data": {
      "text/html": [
       "<div>\n",
       "<style scoped>\n",
       "    .dataframe tbody tr th:only-of-type {\n",
       "        vertical-align: middle;\n",
       "    }\n",
       "\n",
       "    .dataframe tbody tr th {\n",
       "        vertical-align: top;\n",
       "    }\n",
       "\n",
       "    .dataframe thead th {\n",
       "        text-align: right;\n",
       "    }\n",
       "</style>\n",
       "<table border=\"1\" class=\"dataframe\">\n",
       "  <thead>\n",
       "    <tr style=\"text-align: right;\">\n",
       "      <th></th>\n",
       "      <th>year</th>\n",
       "      <th>yday</th>\n",
       "      <th>dayl (s)</th>\n",
       "      <th>prcp (mm/day)</th>\n",
       "      <th>srad (W/m^2)</th>\n",
       "      <th>swe (kg/m^2)</th>\n",
       "      <th>tmax (deg c)</th>\n",
       "      <th>tmin (deg c)</th>\n",
       "      <th>vp (Pa)</th>\n",
       "    </tr>\n",
       "  </thead>\n",
       "  <tbody>\n",
       "    <tr>\n",
       "      <th>3012</th>\n",
       "      <td>2022</td>\n",
       "      <td>1</td>\n",
       "      <td>34589.86</td>\n",
       "      <td>48.28</td>\n",
       "      <td>168.94</td>\n",
       "      <td>0.0</td>\n",
       "      <td>23.43</td>\n",
       "      <td>13.15</td>\n",
       "      <td>1511.53</td>\n",
       "    </tr>\n",
       "    <tr>\n",
       "      <th>3013</th>\n",
       "      <td>2022</td>\n",
       "      <td>2</td>\n",
       "      <td>34624.85</td>\n",
       "      <td>18.09</td>\n",
       "      <td>138.89</td>\n",
       "      <td>0.0</td>\n",
       "      <td>15.98</td>\n",
       "      <td>8.71</td>\n",
       "      <td>1125.12</td>\n",
       "    </tr>\n",
       "    <tr>\n",
       "      <th>3014</th>\n",
       "      <td>2022</td>\n",
       "      <td>3</td>\n",
       "      <td>34662.71</td>\n",
       "      <td>0.00</td>\n",
       "      <td>123.00</td>\n",
       "      <td>0.0</td>\n",
       "      <td>2.88</td>\n",
       "      <td>-1.37</td>\n",
       "      <td>552.34</td>\n",
       "    </tr>\n",
       "    <tr>\n",
       "      <th>3015</th>\n",
       "      <td>2022</td>\n",
       "      <td>4</td>\n",
       "      <td>34703.41</td>\n",
       "      <td>0.00</td>\n",
       "      <td>262.52</td>\n",
       "      <td>0.0</td>\n",
       "      <td>6.76</td>\n",
       "      <td>-4.30</td>\n",
       "      <td>444.14</td>\n",
       "    </tr>\n",
       "    <tr>\n",
       "      <th>3016</th>\n",
       "      <td>2022</td>\n",
       "      <td>5</td>\n",
       "      <td>34746.93</td>\n",
       "      <td>0.00</td>\n",
       "      <td>257.56</td>\n",
       "      <td>0.0</td>\n",
       "      <td>10.76</td>\n",
       "      <td>-0.11</td>\n",
       "      <td>605.63</td>\n",
       "    </tr>\n",
       "    <tr>\n",
       "      <th>...</th>\n",
       "      <td>...</td>\n",
       "      <td>...</td>\n",
       "      <td>...</td>\n",
       "      <td>...</td>\n",
       "      <td>...</td>\n",
       "      <td>...</td>\n",
       "      <td>...</td>\n",
       "      <td>...</td>\n",
       "      <td>...</td>\n",
       "    </tr>\n",
       "    <tr>\n",
       "      <th>3737</th>\n",
       "      <td>2023</td>\n",
       "      <td>361</td>\n",
       "      <td>34458.63</td>\n",
       "      <td>2.85</td>\n",
       "      <td>114.40</td>\n",
       "      <td>0.0</td>\n",
       "      <td>12.89</td>\n",
       "      <td>6.03</td>\n",
       "      <td>936.76</td>\n",
       "    </tr>\n",
       "    <tr>\n",
       "      <th>3738</th>\n",
       "      <td>2023</td>\n",
       "      <td>362</td>\n",
       "      <td>34478.94</td>\n",
       "      <td>0.00</td>\n",
       "      <td>143.46</td>\n",
       "      <td>0.0</td>\n",
       "      <td>8.33</td>\n",
       "      <td>2.17</td>\n",
       "      <td>714.09</td>\n",
       "    </tr>\n",
       "    <tr>\n",
       "      <th>3739</th>\n",
       "      <td>2023</td>\n",
       "      <td>363</td>\n",
       "      <td>34502.22</td>\n",
       "      <td>0.00</td>\n",
       "      <td>83.25</td>\n",
       "      <td>0.0</td>\n",
       "      <td>4.56</td>\n",
       "      <td>1.34</td>\n",
       "      <td>672.72</td>\n",
       "    </tr>\n",
       "    <tr>\n",
       "      <th>3740</th>\n",
       "      <td>2023</td>\n",
       "      <td>364</td>\n",
       "      <td>34528.46</td>\n",
       "      <td>0.00</td>\n",
       "      <td>97.01</td>\n",
       "      <td>0.0</td>\n",
       "      <td>5.52</td>\n",
       "      <td>1.84</td>\n",
       "      <td>697.30</td>\n",
       "    </tr>\n",
       "    <tr>\n",
       "      <th>3741</th>\n",
       "      <td>2023</td>\n",
       "      <td>365</td>\n",
       "      <td>34557.63</td>\n",
       "      <td>0.00</td>\n",
       "      <td>236.93</td>\n",
       "      <td>0.0</td>\n",
       "      <td>12.39</td>\n",
       "      <td>1.66</td>\n",
       "      <td>688.59</td>\n",
       "    </tr>\n",
       "  </tbody>\n",
       "</table>\n",
       "<p>730 rows × 9 columns</p>\n",
       "</div>"
      ],
      "text/plain": [
       "      year  yday  dayl (s)  prcp (mm/day)  srad (W/m^2)  swe (kg/m^2)  \\\n",
       "3012  2022     1  34589.86          48.28        168.94           0.0   \n",
       "3013  2022     2  34624.85          18.09        138.89           0.0   \n",
       "3014  2022     3  34662.71           0.00        123.00           0.0   \n",
       "3015  2022     4  34703.41           0.00        262.52           0.0   \n",
       "3016  2022     5  34746.93           0.00        257.56           0.0   \n",
       "...    ...   ...       ...            ...           ...           ...   \n",
       "3737  2023   361  34458.63           2.85        114.40           0.0   \n",
       "3738  2023   362  34478.94           0.00        143.46           0.0   \n",
       "3739  2023   363  34502.22           0.00         83.25           0.0   \n",
       "3740  2023   364  34528.46           0.00         97.01           0.0   \n",
       "3741  2023   365  34557.63           0.00        236.93           0.0   \n",
       "\n",
       "      tmax (deg c)  tmin (deg c)  vp (Pa)  \n",
       "3012         23.43         13.15  1511.53  \n",
       "3013         15.98          8.71  1125.12  \n",
       "3014          2.88         -1.37   552.34  \n",
       "3015          6.76         -4.30   444.14  \n",
       "3016         10.76         -0.11   605.63  \n",
       "...            ...           ...      ...  \n",
       "3737         12.89          6.03   936.76  \n",
       "3738          8.33          2.17   714.09  \n",
       "3739          4.56          1.34   672.72  \n",
       "3740          5.52          1.84   697.30  \n",
       "3741         12.39          1.66   688.59  \n",
       "\n",
       "[730 rows x 9 columns]"
      ]
     },
     "execution_count": 116,
     "metadata": {},
     "output_type": "execute_result"
    }
   ],
   "source": [
    "df =pd.read_csv('precip_ET.csv',delimiter = ',', skiprows=6).iloc[-730:,:]\n",
    "mean_air_temp_c = 273.15+((df['tmax (deg c)'] + df['tmin (deg c)'])/2.0)\n",
    "precip_ms = df['prcp (mm/day)']/86400000\n",
    "incom_shor_rad=df['dayl (s)']/86400*df['srad (W/m^2)']\n",
    "vap_pres=df['vp (Pa)']\n",
    "df"
   ]
  },
  {
   "cell_type": "code",
   "execution_count": 117,
   "id": "1319eac7",
   "metadata": {},
   "outputs": [],
   "source": [
    "precip=df.groupby('yday')['prcp (mm/day)'].mean()\n",
    "cyclic_precip_ms = precip/86400000\n",
    "dayl=df.groupby('yday')['dayl (s)'].mean()\n",
    "srad=df.groupby('yday')['srad (W/m^2)'].mean()\n",
    "cyclic_incom_shor_rad=dayl/86400*srad\n",
    "tmax=273.15+df.groupby('yday')['tmax (deg c)'].mean()\n",
    "tmin=273.15+df.groupby('yday')['tmin (deg c)'].mean()\n",
    "cyclic_mean_air_temp_c = (tmax + tmin)/2.0\n",
    "cyclic_vap_pres=df.groupby('yday')['vp (Pa)'].mean()"
   ]
  },
  {
   "cell_type": "code",
   "execution_count": 118,
   "id": "7ce3add2",
   "metadata": {},
   "outputs": [],
   "source": [
    "steady_precip_ms=np.mean(precip_ms)*0.6\n",
    "\n",
    "steady_mean_air_temp_c =np.mean(mean_air_temp_c)\n",
    "\n",
    "steady_incom_shor_rad=np.mean(incom_shor_rad)\n",
    "\n",
    "steady_vap_pres=np.mean(vap_pres)"
   ]
  },
  {
   "cell_type": "code",
   "execution_count": 119,
   "id": "8b552ce9",
   "metadata": {},
   "outputs": [],
   "source": [
    "df2=pd.read_csv('precipitation2.csv')\n",
    "mean_air_temp_c2=df2['DailyAverageDryBulbTemperature']+273.15\n",
    "precip_ms2=df2['DailyPrecipitation']/86400000\n",
    "vap_pres2=df2['VP']\n",
    "df3=pd.read_csv('SW_rad2.csv').iloc[:-30,:]\n",
    "incom_shor_rad2=df3['short_wav_rad']"
   ]
  },
  {
   "cell_type": "code",
   "execution_count": 120,
   "id": "58d1d1b1",
   "metadata": {},
   "outputs": [],
   "source": [
    "total_precip_ms=np.hstack(([steady_precip_ms]*730,cyclic_precip_ms.values,cyclic_precip_ms.values,precip_ms.values,precip_ms2.values))\n",
    "\n",
    "total_mean_air_temp_c=np.hstack(([steady_mean_air_temp_c]*730,cyclic_mean_air_temp_c.values,cyclic_mean_air_temp_c.values,mean_air_temp_c.values,mean_air_temp_c2.values))\n",
    "\n",
    "total_vap_pres=np.hstack(([steady_vap_pres]*730,cyclic_vap_pres.values,cyclic_vap_pres.values,vap_pres.values,vap_pres2.values))\n",
    "\n",
    "total_incom_shor_rad=np.hstack(([steady_incom_shor_rad]*730,cyclic_incom_shor_rad.values,cyclic_incom_shor_rad.values,incom_shor_rad.values,incom_shor_rad2.values))"
   ]
  },
  {
   "cell_type": "code",
   "execution_count": 125,
   "id": "c35d7db8",
   "metadata": {},
   "outputs": [],
   "source": [
    "hf = h5py.File('daymet_data.h5', 'w')"
   ]
  },
  {
   "cell_type": "code",
   "execution_count": 126,
   "id": "daa85d66",
   "metadata": {},
   "outputs": [
    {
     "data": {
      "text/plain": [
       "<HDF5 dataset \"precipitation snow [m SWE s^-1]\": shape (2434,), type \"<f8\">"
      ]
     },
     "execution_count": 126,
     "metadata": {},
     "output_type": "execute_result"
    }
   ],
   "source": [
    "hf.create_dataset('time [s]', data=np.arange(0,86400*len(total_precip_ms),86400))\n",
    "hf.create_dataset('air temperature [K]', data=total_mean_air_temp_c)\n",
    "hf.create_dataset('incoming shortwave radiation [W m^-2]', data=total_incom_shor_rad)\n",
    "hf.create_dataset('vapor pressure air [Pa]', data=total_vap_pres)\n",
    "hf.create_dataset('precipitation rain [m s^-1]', data=np.where(total_mean_air_temp_c >= 273.15, total_precip_ms, 0))\n",
    "hf.create_dataset('precipitation snow [m SWE s^-1]', data=np.where(total_mean_air_temp_c < 273.15, total_precip_ms, 0))"
   ]
  },
  {
   "cell_type": "code",
   "execution_count": 135,
   "id": "3772f935",
   "metadata": {},
   "outputs": [],
   "source": [
    "hf.close()"
   ]
  },
  {
   "cell_type": "code",
   "execution_count": 132,
   "id": "473bb7e1",
   "metadata": {},
   "outputs": [],
   "source": [
    "hf = h5py.File('../../data/MODIS_LAI_typical_2005_2023.h5', 'r')\n",
    "cyclic_LAI=hf['NLCD Developed, Medium Intensity LAI [-]'][:730] #two years cyclic\n",
    "LAI2=hf['NLCD Developed, Medium Intensity LAI [-]'][:244] # use for 2024 jan to aug\n",
    "hf = h5py.File('../../data/MODIS_LAI_smoothed_2005_2023.h5', 'r')\n",
    "LAI=hf['NLCD Developed, Medium Intensity LAI [-]'][-730:]# 2022 Jan to dec 2023\n",
    "steady_LAI=np.mean(hf['NLCD Developed, Medium Intensity LAI [-]'][:])"
   ]
  },
  {
   "cell_type": "code",
   "execution_count": 133,
   "id": "29761891",
   "metadata": {},
   "outputs": [
    {
     "data": {
      "text/plain": [
       "<HDF5 dataset \"NLCD Developed, Medium Intensity LAI [-]\": shape (2434,), type \"<f8\">"
      ]
     },
     "execution_count": 133,
     "metadata": {},
     "output_type": "execute_result"
    }
   ],
   "source": [
    "hf = h5py.File('LAI_data.h5', 'w')\n",
    "hf.create_dataset('time [s]', data=np.arange(0,86400*len(total_precip_ms),86400))\n",
    "hf.create_dataset('NLCD Developed, Medium Intensity LAI [-]', data=np.hstack(([steady_LAI]*730,cyclic_LAI,LAI,LAI2)))\n",
    "#hf.close()"
   ]
  },
  {
   "cell_type": "code",
   "execution_count": 2,
   "id": "4ec597c5",
   "metadata": {},
   "outputs": [],
   "source": [
    "###"
   ]
  },
  {
   "cell_type": "code",
   "execution_count": 158,
   "id": "1445d438",
   "metadata": {},
   "outputs": [],
   "source": [
    "STW2=np.loadtxt('predicted_STW2.txt')"
   ]
  },
  {
   "cell_type": "code",
   "execution_count": 159,
   "id": "d669343b",
   "metadata": {},
   "outputs": [],
   "source": [
    "total_level=np.hstack(([np.mean(STW2)]*1460,STW2[-815:],np.loadtxt('STW2_avg.txt')[:87]+22,np.loadtxt('STW1.csv')))"
   ]
  },
  {
   "cell_type": "code",
   "execution_count": 162,
   "id": "ca895d72",
   "metadata": {},
   "outputs": [],
   "source": [
    "hf = h5py.File('Water_level.h5', 'w')\n",
    "\n",
    "hf.create_dataset('time [s]', data=np.arange(0,86400*len(total_level),86400))\n",
    "hf.create_dataset('Water_level [m]', data=total_level/100)\n",
    "hf.close()"
   ]
  },
  {
   "cell_type": "code",
   "execution_count": null,
   "id": "bee16258",
   "metadata": {},
   "outputs": [],
   "source": []
  }
 ],
 "metadata": {
  "kernelspec": {
   "display_name": "Python 3 (ipykernel)",
   "language": "python",
   "name": "python3"
  },
  "language_info": {
   "codemirror_mode": {
    "name": "ipython",
    "version": 3
   },
   "file_extension": ".py",
   "mimetype": "text/x-python",
   "name": "python",
   "nbconvert_exporter": "python",
   "pygments_lexer": "ipython3",
   "version": "3.11.5"
  }
 },
 "nbformat": 4,
 "nbformat_minor": 5
}
